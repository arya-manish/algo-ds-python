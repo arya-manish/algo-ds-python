{
 "cells": [
  {
   "cell_type": "markdown",
   "metadata": {},
   "source": [
    "### Sort array of integers by number of 1 bit in its binary form\n",
    "\n",
    "Given an integer array arr. You have to sort the integers in the array in ascending order by the number of 1's in their binary representation and in case of two or more integers have the same number of 1's you have to sort them in ascending order.\n",
    "\n",
    "Return the sorted array.\n",
    "\n",
    "Example 1:\n",
    "Input: arr = [0,1,2,3,4,5,6,7,8]\n",
    "Output: [0,1,2,4,8,3,5,6,7]\n",
    "Explantion: [0] is the only integer with 0 bits.\n",
    "[1,2,4,8] all have 1 bit.\n",
    "[3,5,6] have 2 bits.\n",
    "[7] has 3 bits.\n",
    "The sorted array by bits is [0,1,2,4,8,3,5,6,7]\n",
    "\n",
    "Example 2:\n",
    "Input: arr = [1024,512,256,128,64,32,16,8,4,2,1]\n",
    "Output: [1,2,4,8,16,32,64,128,256,512,1024]\n",
    "Explantion: All integers have 1 bit in the binary representation, you should just sort them in ascending order.\n",
    "\n",
    "Example 3:\n",
    "Input: arr = [10000,10000]\n",
    "Output: [10000,10000]\n",
    "\n",
    "Example 4:\n",
    "Input: arr = [2,3,5,7,11,13,17,19]\n",
    "Output: [2,3,5,17,7,11,13,19]\n",
    "\n",
    "Example 5:\n",
    "Input: arr = [10,100,1000,10000]\n",
    "Output: [10,100,10000,1000]"
   ]
  },
  {
   "cell_type": "code",
   "execution_count": 64,
   "metadata": {},
   "outputs": [],
   "source": [
    "def sort_by_bits(nums):\n",
    "        #  convert an integer into a string using bin() \n",
    "        # 'string'.count('c') counts the number of times a character 'c' appears\n",
    "        #  rslt is a list of tuples of (number of 1's, corresponding integer)\n",
    "        rslt = [(bin(num).count('1'), num) for num in nums]\n",
    "        \n",
    "        # rslt is sorted using sort() method.\n",
    "        # note x[1] is the 2nd element of tuple which is integer itself. x[0] is number of 1's in binary form for integer\n",
    "        rslt.sort() \n",
    "        return [x[1] for x in rslt]\n",
    "        \n",
    "    \n",
    "    "
   ]
  },
  {
   "cell_type": "code",
   "execution_count": 66,
   "metadata": {},
   "outputs": [
    {
     "data": {
      "text/plain": [
       "[0, 1, 2, 4, 8, 3, 5, 6, 7]"
      ]
     },
     "execution_count": 66,
     "metadata": {},
     "output_type": "execute_result"
    }
   ],
   "source": [
    "sort_by_bits([0,1,2,3,4,5,6,7,8])"
   ]
  },
  {
   "cell_type": "code",
   "execution_count": null,
   "metadata": {},
   "outputs": [],
   "source": []
  }
 ],
 "metadata": {
  "kernelspec": {
   "display_name": "Python 3",
   "language": "python",
   "name": "python3"
  },
  "language_info": {
   "codemirror_mode": {
    "name": "ipython",
    "version": 3
   },
   "file_extension": ".py",
   "mimetype": "text/x-python",
   "name": "python",
   "nbconvert_exporter": "python",
   "pygments_lexer": "ipython3",
   "version": "3.7.4"
  }
 },
 "nbformat": 4,
 "nbformat_minor": 2
}
