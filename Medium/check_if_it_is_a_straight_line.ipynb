{
 "cells": [
  {
   "cell_type": "markdown",
   "metadata": {},
   "source": [
    "### Check If It Is a Straight Line\n",
    "You are given an array coordinates, coordinates[i] = [x, y], where [x, y] represents the coordinate of a point. Check if these points make a straight line in the XY plane.\n",
    "\n",
    " \n",
    "\n",
    " \n",
    "\n",
    "Example 1:\n",
    "Input: coordinates = [[1,2],[2,3],[3,4],[4,5],[5,6],[6,7]]\n",
    "Output: true\n",
    "\n",
    "Example 2:\n",
    "Input: coordinates = [[1,1],[2,2],[3,4],[4,5],[5,6],[7,7]]\n",
    "Output: false"
   ]
  },
  {
   "cell_type": "code",
   "execution_count": 18,
   "metadata": {},
   "outputs": [],
   "source": [
    "def check_straight_line(coordinates):\n",
    "    \n",
    "    # if two points are given, they are always on the line.\n",
    "    if len(coordinates)==2: \n",
    "        return True\n",
    "    \n",
    "    \n",
    "    # to check if given points form vertical line\n",
    "    cnt = 0\n",
    "    for idx, val in enumerate(coordinates):\n",
    "        # to check if x coordinates of all points are equal\n",
    "        if val[0] == coordinates[0][0]:\n",
    "            # counter increment to check the condition of equality of x-coordinates\n",
    "            cnt = cnt+1 \n",
    "    if cnt==len(coordinates):\n",
    "        return True\n",
    "    \n",
    "    \n",
    "    # if x-coordinates of first 2 points are not equal, then define m, slope of line.\n",
    "    if coordinates[0][0]==coordinates[1][0]: # first two points have same x-coordinates but not other points.\n",
    "        return False \n",
    "    else:  # define m\n",
    "        m = (coordinates[1][1] - coordinates[0][1])/ (coordinates[1][0] - coordinates[0][0])\n",
    "    \n",
    "    \n",
    "    # to check if slope with first 2 points are same as slope with first and iterative points.    \n",
    "    idx = 2     \n",
    "    while idx<len(coordinates):\n",
    "        '''\n",
    "        to avoid getting divided by 0: I don't write \n",
    "        (coordinates[idx][1] - coordinates[0][1])/(coordinates[idx][0] - coordinates[0][0]) != m \n",
    "        rather, the expression is as below:\n",
    "        '''\n",
    "        if (coordinates[idx][1] - coordinates[0][1]) != m*(coordinates[idx][0] - coordinates[0][0]): \n",
    "            return False\n",
    "        else:\n",
    "            idx+=1\n",
    "    return True"
   ]
  },
  {
   "cell_type": "code",
   "execution_count": 19,
   "metadata": {},
   "outputs": [
    {
     "data": {
      "text/plain": [
       "True"
      ]
     },
     "execution_count": 19,
     "metadata": {},
     "output_type": "execute_result"
    }
   ],
   "source": [
    "check_straight_line([[1,2],[2,3],[3,4],[4,5],[5,6],[6,7]])"
   ]
  },
  {
   "cell_type": "code",
   "execution_count": null,
   "metadata": {},
   "outputs": [],
   "source": []
  },
  {
   "cell_type": "code",
   "execution_count": null,
   "metadata": {},
   "outputs": [],
   "source": []
  }
 ],
 "metadata": {
  "kernelspec": {
   "display_name": "Python 3",
   "language": "python",
   "name": "python3"
  },
  "language_info": {
   "codemirror_mode": {
    "name": "ipython",
    "version": 3
   },
   "file_extension": ".py",
   "mimetype": "text/x-python",
   "name": "python",
   "nbconvert_exporter": "python",
   "pygments_lexer": "ipython3",
   "version": "3.7.4"
  }
 },
 "nbformat": 4,
 "nbformat_minor": 2
}
