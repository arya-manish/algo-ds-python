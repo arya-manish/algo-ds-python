{
 "cells": [
  {
   "cell_type": "markdown",
   "metadata": {},
   "source": [
    "### Count Negative Numbers in a Sorted Matrix\n",
    "Given a m * n matrix grid which is sorted in non-increasing order both row-wise and column-wise. \n",
    "\n",
    "Return the number of negative numbers in grid.\n",
    "\n",
    " \n",
    "\n",
    "Example 1:\n",
    "Input: grid = [[4,3,2,-1],[3,2,1,-1],[1,1,-1,-2],[-1,-1,-2,-3]]\n",
    "Output: 8\n",
    "Explanation: There are 8 negatives number in the matrix.\n",
    "\n",
    "Example 2:\n",
    "Input: grid = [[3,2],[1,0]]\n",
    "Output: 0\n",
    "\n",
    "Example 3:\n",
    "Input: grid = [[1,-1],[-1,-1]]\n",
    "Output: 3\n",
    "Example 4:\n",
    "\n",
    "Input: grid = [[-1]]\n",
    "Output: 1"
   ]
  },
  {
   "cell_type": "code",
   "execution_count": 27,
   "metadata": {},
   "outputs": [],
   "source": [
    "# Method 1: Brute force. 2 for loops. Time complexity: O(n^2). Note, it does not \n",
    "            # require array to be sorted. So, not an efficient method.\n",
    "\n",
    "def count_negative1(grid):\n",
    "        count = 0\n",
    "        for i in range(len(grid)):\n",
    "            for j in range(len(grid[0])):\n",
    "                if grid[i][j]<0:\n",
    "                    count+=1\n",
    "        return count"
   ]
  },
  {
   "cell_type": "code",
   "execution_count": 28,
   "metadata": {},
   "outputs": [],
   "source": [
    "# Method 2: Better version of method 1. We start with last element of each row.\n",
    "            # If it is negative, increment counter. If it is non-negative, move on to the last element\n",
    "            # of the next row. (Think, why?). And so on.\n",
    "def count_negative2(grid):\n",
    "    count, i = 0, 0\n",
    "    n = len(grid[0])-1\n",
    "    while i<len(grid) and n>=0:  \n",
    "        if grid[i][n]<0: \n",
    "            count+=1  \n",
    "            n-=1  # move on to next element starting from last. \n",
    "        if grid[i][n]>=0 or n<0:  # if the next element is non-negative or 1st\n",
    "            n = len(grid[0])-1    # move on to the last element \n",
    "            i+=1                  # of next row\n",
    "    return count "
   ]
  },
  {
   "cell_type": "code",
   "execution_count": 29,
   "metadata": {},
   "outputs": [
    {
     "name": "stdout",
     "output_type": "stream",
     "text": [
      "number of negative elements: 8\n",
      "Time taken in 2nd version 0.010991096496582031 ms\n"
     ]
    }
   ],
   "source": [
    "import time\n",
    "tic = time.time()\n",
    "c = countNegative1([[4,3,2,-1],[3,2,1,-1],[1,1,-1,-2],[-1,-1,-2,-3]])\n",
    "toc = time.time()\n",
    "print('number of negative elements: '+str(c))\n",
    "print('Time taken in 2nd version '+str((toc-tic)*100)+' ms')"
   ]
  },
  {
   "cell_type": "code",
   "execution_count": 30,
   "metadata": {},
   "outputs": [
    {
     "name": "stdout",
     "output_type": "stream",
     "text": [
      "number of negative elements: 8\n",
      "Time taken in 2nd version 0.015592575073242188 ms\n"
     ]
    }
   ],
   "source": [
    "import time\n",
    "tic = time.time()\n",
    "countNegative2([[4,3,2,-1],[3,2,1,-1],[1,1,-1,-2],[-1,-1,-2,-3]])\n",
    "toc = time.time()\n",
    "print('number of negative elements: '+str(c))\n",
    "print('Time taken in 2nd version '+str((toc-tic)*100)+' ms')"
   ]
  },
  {
   "cell_type": "code",
   "execution_count": null,
   "metadata": {},
   "outputs": [],
   "source": []
  },
  {
   "cell_type": "code",
   "execution_count": null,
   "metadata": {},
   "outputs": [],
   "source": []
  }
 ],
 "metadata": {
  "kernelspec": {
   "display_name": "Python 3",
   "language": "python",
   "name": "python3"
  },
  "language_info": {
   "codemirror_mode": {
    "name": "ipython",
    "version": 3
   },
   "file_extension": ".py",
   "mimetype": "text/x-python",
   "name": "python",
   "nbconvert_exporter": "python",
   "pygments_lexer": "ipython3",
   "version": "3.7.4"
  }
 },
 "nbformat": 4,
 "nbformat_minor": 2
}
