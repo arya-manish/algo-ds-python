{
 "cells": [
  {
   "cell_type": "markdown",
   "metadata": {},
   "source": [
    "### Queue Reconstruction by Height"
   ]
  },
  {
   "cell_type": "markdown",
   "metadata": {},
   "source": [
    "Suppose you have a random list of people standing in a queue. Each person is described by a pair of integers (h, k), where h is the height of the person and k is the number of people in front of this person who have a height greater than or equal to h. Write an algorithm to reconstruct the queue.\n",
    "\n",
    "Note:\n",
    "The number of people is less than 1,100.\n",
    "\n",
    " \n",
    "Example\n",
    "\n",
    "Input:\n",
    "[[7,0], [4,4], [7,1], [5,0], [6,1], [5,2]]\n",
    "\n",
    "Output:\n",
    "[[5,0], [7,0], [5,2], [6,1], [4,4], [7,1]]"
   ]
  },
  {
   "cell_type": "code",
   "execution_count": 5,
   "metadata": {},
   "outputs": [],
   "source": [
    "'''\n",
    "# logic: 1. Sort the people(list) in descending order according to their height\n",
    "            i.e. by 0th index of list of lists. \n",
    "            If 0th indices are equal, sort them by their 1st index. \n",
    "            \n",
    "         2. create a new list 'rslt'. Start inserting into this list element\n",
    "            from people list according to the 1st index i.e k value. \n",
    "             \n",
    "        \n",
    "\n",
    "'''\n",
    "def reconstruct_queue_by_height(people):\n",
    "    \n",
    "    # step 1. Here sorted according to -x[0]. So, sorted in descending order. \n",
    "            # x[1] is to sort as per x[0]. i.e. when their heights are same, \n",
    "              # sort as per 1st index.\n",
    "    #people = sorted(people, key = lambda x: (-x[0], x[1]))  #not in place\n",
    "    people.sort(key = lambda x: (-x[0], x[1]))  # in place\n",
    "    # step2: \n",
    "    rslt = []\n",
    "    for p in people:\n",
    "        rslt.insert(p[1], p) # p is inserted at the index determined by p[1] i.e by k value. \n",
    "    return rslt    \n",
    "    \n",
    "    "
   ]
  },
  {
   "cell_type": "code",
   "execution_count": 6,
   "metadata": {},
   "outputs": [
    {
     "data": {
      "text/plain": [
       "[[5, 0], [7, 0], [5, 2], [6, 1], [4, 4], [7, 1]]"
      ]
     },
     "execution_count": 6,
     "metadata": {},
     "output_type": "execute_result"
    }
   ],
   "source": [
    "reconstruct_queue_by_height([[7,0], [4,4], [7,1], [5,0], [6,1], [5,2]])"
   ]
  },
  {
   "cell_type": "code",
   "execution_count": null,
   "metadata": {},
   "outputs": [],
   "source": []
  }
 ],
 "metadata": {
  "kernelspec": {
   "display_name": "Python 3",
   "language": "python",
   "name": "python3"
  },
  "language_info": {
   "codemirror_mode": {
    "name": "ipython",
    "version": 3
   },
   "file_extension": ".py",
   "mimetype": "text/x-python",
   "name": "python",
   "nbconvert_exporter": "python",
   "pygments_lexer": "ipython3",
   "version": "3.7.4"
  }
 },
 "nbformat": 4,
 "nbformat_minor": 2
}
