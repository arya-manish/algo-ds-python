{
 "cells": [
  {
   "cell_type": "markdown",
   "metadata": {},
   "source": [
    "There are two sorted arrays nums1 and nums2 of size m and n respectively.\n",
    "\n",
    "Find the median of the two sorted arrays. The overall run time complexity should be O(log (m+n)).\n",
    "\n",
    "You may assume nums1 and nums2 cannot be both empty.\n",
    "\n",
    "Example 1:\n",
    "\n",
    "nums1 = [1, 3],\n",
    "nums2 = [2]\n",
    "\n",
    "The median is 2.0\n",
    "Example 2:\n",
    "\n",
    "nums1 = [1, 2],\n",
    "nums2 = [3, 4]\n",
    "\n",
    "The median is (2 + 3)/2 = 2.5"
   ]
  },
  {
   "cell_type": "code",
   "execution_count": 57,
   "metadata": {},
   "outputs": [],
   "source": [
    "# I encountered this function in merge sort also. I have implemented it there, a bit differently.\n",
    "def merge_sorted_lists(a, b):\n",
    "    nums = []\n",
    "    i, j = 0, 0\n",
    "    while True:\n",
    "        if i!=len(a) and j!=len(b):\n",
    "            if a[i]<=b[j]:\n",
    "                nums.append(a[i])\n",
    "                i+=1\n",
    "            else:\n",
    "                nums.append(b[j])\n",
    "                j+=1\n",
    "        elif i==len(a):\n",
    "            nums.extend(b[j:])\n",
    "            break\n",
    "        elif j==len(b):\n",
    "            nums.extend(a[i:]) \n",
    "            break\n",
    "    return nums    "
   ]
  },
  {
   "cell_type": "code",
   "execution_count": 62,
   "metadata": {},
   "outputs": [],
   "source": [
    "def medians(a, b):\n",
    "    nums = merge_sorted_lists(a, b)\n",
    "    print(nums)\n",
    "    if len(nums)%2:\n",
    "        mid = (len(nums)-1)//2\n",
    "        median = nums[mid]\n",
    "    else:\n",
    "        mid1 = (len(nums)//2) -1   \n",
    "        mid2 = len(nums)//2\n",
    "        median = (nums[mid1] + nums[mid2])/2\n",
    "    \n",
    "    return median\n",
    "\n"
   ]
  },
  {
   "cell_type": "code",
   "execution_count": 63,
   "metadata": {},
   "outputs": [
    {
     "name": "stdout",
     "output_type": "stream",
     "text": [
      "[2, 3, 5, 6, 7, 9, 9, 10]\n"
     ]
    },
    {
     "data": {
      "text/plain": [
       "6.5"
      ]
     },
     "execution_count": 63,
     "metadata": {},
     "output_type": "execute_result"
    }
   ],
   "source": [
    "medians([2, 5, 7, 9], [3, 6, 9, 10])"
   ]
  },
  {
   "cell_type": "code",
   "execution_count": 64,
   "metadata": {},
   "outputs": [
    {
     "data": {
      "text/plain": [
       "[2, 3, 5, 6, 7, 9, 9]"
      ]
     },
     "execution_count": 64,
     "metadata": {},
     "output_type": "execute_result"
    }
   ],
   "source": [
    "merge_sorted_lists([2, 5, 7, 9], [3, 6, 9])"
   ]
  },
  {
   "cell_type": "code",
   "execution_count": null,
   "metadata": {},
   "outputs": [],
   "source": []
  },
  {
   "cell_type": "code",
   "execution_count": null,
   "metadata": {},
   "outputs": [],
   "source": []
  },
  {
   "cell_type": "code",
   "execution_count": null,
   "metadata": {},
   "outputs": [],
   "source": []
  },
  {
   "cell_type": "code",
   "execution_count": null,
   "metadata": {},
   "outputs": [],
   "source": []
  },
  {
   "cell_type": "code",
   "execution_count": null,
   "metadata": {},
   "outputs": [],
   "source": []
  }
 ],
 "metadata": {
  "kernelspec": {
   "display_name": "Python 3",
   "language": "python",
   "name": "python3"
  },
  "language_info": {
   "codemirror_mode": {
    "name": "ipython",
    "version": 3
   },
   "file_extension": ".py",
   "mimetype": "text/x-python",
   "name": "python",
   "nbconvert_exporter": "python",
   "pygments_lexer": "ipython3",
   "version": "3.7.4"
  }
 },
 "nbformat": 4,
 "nbformat_minor": 2
}
