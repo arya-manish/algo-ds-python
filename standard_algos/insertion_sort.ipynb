{
 "cells": [
  {
   "cell_type": "code",
   "execution_count": 1,
   "metadata": {},
   "outputs": [],
   "source": [
    "# This approach of solving problem is like sorting of playing cards. \n",
    "# Time complexity: O(n^2)\n",
    "# Incremental approach. Before every iteration of j in for loop, j-1 sublist is sorted.\n",
    "# Role of key is important, we can't eliminate this variable otherwise error. Think why?\n",
    "# Note that key is fixed for every iteration of for loop.\n",
    "\n",
    "def insertion_sort(lst):   \n",
    "    for j in range(1, len(lst)):\n",
    "        key = lst[j]   \n",
    "        i = j - 1\n",
    "        while(i >= 0 and lst[i] > key):\n",
    "            lst[i+1], lst[i] = lst[i], lst[i+1]  # swapping until the key is at desired location.   \n",
    "            i = i - 1  \n",
    "        print(f'At iteration {j},  list is: {lst}') # for demo purpose\n",
    "  \n",
    "    return lst    \n",
    "\n",
    "            \n",
    "\n",
    "    "
   ]
  },
  {
   "cell_type": "code",
   "execution_count": 2,
   "metadata": {},
   "outputs": [
    {
     "name": "stdout",
     "output_type": "stream",
     "text": [
      "At iteration 1,  list is: [2, 5, 4, 6, 10, 1, 0, 11, -12, 14, -14, 15]\n",
      "At iteration 2,  list is: [2, 4, 5, 6, 10, 1, 0, 11, -12, 14, -14, 15]\n",
      "At iteration 3,  list is: [2, 4, 5, 6, 10, 1, 0, 11, -12, 14, -14, 15]\n",
      "At iteration 4,  list is: [2, 4, 5, 6, 10, 1, 0, 11, -12, 14, -14, 15]\n",
      "At iteration 5,  list is: [1, 2, 4, 5, 6, 10, 0, 11, -12, 14, -14, 15]\n",
      "At iteration 6,  list is: [0, 1, 2, 4, 5, 6, 10, 11, -12, 14, -14, 15]\n",
      "At iteration 7,  list is: [0, 1, 2, 4, 5, 6, 10, 11, -12, 14, -14, 15]\n",
      "At iteration 8,  list is: [-12, 0, 1, 2, 4, 5, 6, 10, 11, 14, -14, 15]\n",
      "At iteration 9,  list is: [-12, 0, 1, 2, 4, 5, 6, 10, 11, 14, -14, 15]\n",
      "At iteration 10,  list is: [-14, -12, 0, 1, 2, 4, 5, 6, 10, 11, 14, 15]\n",
      "At iteration 11,  list is: [-14, -12, 0, 1, 2, 4, 5, 6, 10, 11, 14, 15]\n",
      "[-14, -12, 0, 1, 2, 4, 5, 6, 10, 11, 14, 15]\n",
      "12\n"
     ]
    }
   ],
   "source": [
    "x = insertion_sort([5, 2, 4, 6, 10, 1,0, 11, -12, 14, -14, 15])\n",
    "print(x)\n",
    "print(len(x))"
   ]
  },
  {
   "cell_type": "code",
   "execution_count": 3,
   "metadata": {},
   "outputs": [],
   "source": [
    "# OOP approach although, there is no great utility of it. I wrote it just for illustration. \n",
    "\n",
    "class InsertionSort:\n",
    "    \n",
    "    def __init__(self, lst):\n",
    "        self.lst = lst\n",
    "        \n",
    "    def insertion_sort(self):\n",
    "        for j in range(1, len(self.lst)):\n",
    "            key = self.lst[j]   \n",
    "            i = j - 1\n",
    "            while(i >= 0 and self.lst[i] > key):\n",
    "                self.lst[i+1], self.lst[i] = self.lst[i], self.lst[i+1]  # swapping until the key is at desired location.   \n",
    "                i = i - 1  \n",
    "            print(f'At iteration {j},  list is: {self.lst}') # for demo purpose\n",
    "\n",
    "        return self.lst  \n",
    "        "
   ]
  },
  {
   "cell_type": "code",
   "execution_count": 9,
   "metadata": {},
   "outputs": [
    {
     "name": "stdout",
     "output_type": "stream",
     "text": [
      "At iteration 1,  list is: [0, 4, -2, -2, -3, 1, -5, 4]\n",
      "At iteration 2,  list is: [-2, 0, 4, -2, -3, 1, -5, 4]\n",
      "At iteration 3,  list is: [-2, -2, 0, 4, -3, 1, -5, 4]\n",
      "At iteration 4,  list is: [-3, -2, -2, 0, 4, 1, -5, 4]\n",
      "At iteration 5,  list is: [-3, -2, -2, 0, 1, 4, -5, 4]\n",
      "At iteration 6,  list is: [-5, -3, -2, -2, 0, 1, 4, 4]\n",
      "At iteration 7,  list is: [-5, -3, -2, -2, 0, 1, 4, 4]\n"
     ]
    },
    {
     "data": {
      "text/plain": [
       "[-5, -3, -2, -2, 0, 1, 4, 4]"
      ]
     },
     "execution_count": 9,
     "metadata": {},
     "output_type": "execute_result"
    }
   ],
   "source": [
    "sorted_list = InsertionSort([4, 0,-2, -2, -3, 1, -5, 4])\n",
    "sorted_list.insertion_sort()"
   ]
  },
  {
   "cell_type": "code",
   "execution_count": null,
   "metadata": {},
   "outputs": [],
   "source": []
  }
 ],
 "metadata": {
  "kernelspec": {
   "display_name": "Python 3",
   "language": "python",
   "name": "python3"
  },
  "language_info": {
   "codemirror_mode": {
    "name": "ipython",
    "version": 3
   },
   "file_extension": ".py",
   "mimetype": "text/x-python",
   "name": "python",
   "nbconvert_exporter": "python",
   "pygments_lexer": "ipython3",
   "version": "3.7.4"
  }
 },
 "nbformat": 4,
 "nbformat_minor": 2
}
