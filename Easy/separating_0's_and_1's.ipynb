{
 "cells": [
  {
   "cell_type": "markdown",
   "metadata": {},
   "source": [
    "## Separate 1's and 0's in a list containing 1's and 0's"
   ]
  },
  {
   "cell_type": "code",
   "execution_count": 4,
   "metadata": {},
   "outputs": [],
   "source": [
    "def separate_ones_zeros(x):\n",
    "    ones_zeros_list = []\n",
    "    ones_list = []\n",
    "    zeros_list = []\n",
    "    for i in range(len(x)):\n",
    "        if x[i]==1:\n",
    "            ones_zeros_list.append(1)\n",
    "        else:\n",
    "            zeros_list.append(0)\n",
    "    \n",
    "    # to fill ones_zeros_list with 1s and 0s consecutively\n",
    "    for i in range(len(ones_list)):\n",
    "        ones_zeros_list.append(1)\n",
    "    for i in range(len(zeros_list)):  \n",
    "        ones_zeros_list.append(0)\n",
    "        \n",
    "               \n",
    "    return ones_zeros_list        \n",
    "            "
   ]
  },
  {
   "cell_type": "code",
   "execution_count": 5,
   "metadata": {},
   "outputs": [],
   "source": [
    "x = [1,0,1,0,1,1,0,0,1,0,1,1,1]\n",
    "result = separate_ones_zeros(x)"
   ]
  },
  {
   "cell_type": "code",
   "execution_count": 6,
   "metadata": {},
   "outputs": [
    {
     "name": "stdout",
     "output_type": "stream",
     "text": [
      "[1, 1, 1, 1, 1, 1, 1, 1, 0, 0, 0, 0, 0]\n"
     ]
    }
   ],
   "source": [
    "print(result)"
   ]
  },
  {
   "cell_type": "code",
   "execution_count": null,
   "metadata": {},
   "outputs": [],
   "source": []
  }
 ],
 "metadata": {
  "kernelspec": {
   "display_name": "Python 3",
   "language": "python",
   "name": "python3"
  },
  "language_info": {
   "codemirror_mode": {
    "name": "ipython",
    "version": 3
   },
   "file_extension": ".py",
   "mimetype": "text/x-python",
   "name": "python",
   "nbconvert_exporter": "python",
   "pygments_lexer": "ipython3",
   "version": "3.7.4"
  }
 },
 "nbformat": 4,
 "nbformat_minor": 2
}
