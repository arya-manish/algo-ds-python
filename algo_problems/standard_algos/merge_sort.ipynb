{
 "cells": [
  {
   "cell_type": "code",
   "execution_count": 1,
   "metadata": {},
   "outputs": [],
   "source": [
    "# Merge Sort: Divide & Conquer approach. Time complexity: O(nlgn)\n"
   ]
  },
  {
   "cell_type": "markdown",
   "metadata": {},
   "source": [
    "![title](merge_sort.jpeg)"
   ]
  },
  {
   "cell_type": "code",
   "execution_count": null,
   "metadata": {},
   "outputs": [],
   "source": [
    "def merge_sort(nums):\n",
    "    # base case:\n",
    "    if len(nums) <= 1:\n",
    "        return nums\n",
    "    \n",
    "    mid = int(len(nums)/2)\n",
    "    left_nums, right_nums = nums[:mid], nums[mid:]\n",
    "    left_nums = merge_sort(left_nums)\n",
    "    print('left list : ' + str(left_nums))\n",
    "    right_nums = merge_sort(right_nums)\n",
    "    print('right list : ' + str(right_nums))\n",
    "    merged_nums = merge(left_nums, right_nums)\n",
    "    print(f'merged list is {merged_nums}')\n",
    "    return merged_nums\n",
    "\n",
    "    "
   ]
  },
  {
   "cell_type": "code",
   "execution_count": 87,
   "metadata": {},
   "outputs": [],
   "source": [
    "from math import inf\n",
    "\n",
    "# merging of two sorted lists to get a sorted list\n",
    "def merge(left_nums, right_nums):\n",
    "    left_nums.append(inf)\n",
    "    right_nums.append(inf)\n",
    "    merged_nums = []\n",
    "    i, j = 0, 0\n",
    "    L = len(left_nums) + len(right_nums) - 2\n",
    "    \n",
    "    for k in range(L):\n",
    "        if left_nums[i] <= right_nums[j]:\n",
    "            merged_nums.append(left_nums[i])\n",
    "            i+=1\n",
    "        else:\n",
    "            merged_nums.append(right_nums[j])\n",
    "            j+=1 \n",
    "    return merged_nums         \n",
    "    "
   ]
  },
  {
   "cell_type": "code",
   "execution_count": 88,
   "metadata": {},
   "outputs": [
    {
     "name": "stdout",
     "output_type": "stream",
     "text": [
      "left list : [3]\n",
      "left list : [-5]\n",
      "right list : [8]\n",
      "merged list is [-5, 8]\n",
      "right list : [-5, 8]\n",
      "merged list is [-5, 3, 8]\n",
      "left list : [-5, 3, 8]\n",
      "left list : [0]\n",
      "left list : [9]\n",
      "right list : [-11]\n",
      "merged list is [-11, 9]\n",
      "right list : [-11, 9]\n",
      "merged list is [-11, 0, 9]\n",
      "right list : [-11, 0, 9]\n",
      "merged list is [-11, -5, 0, 3, 8, 9]\n"
     ]
    }
   ],
   "source": [
    "inp = [3, -5, 8, 0, 9, -11]\n",
    "out = merge_sort(inp)\n"
   ]
  },
  {
   "cell_type": "code",
   "execution_count": null,
   "metadata": {},
   "outputs": [],
   "source": []
  },
  {
   "cell_type": "code",
   "execution_count": null,
   "metadata": {},
   "outputs": [],
   "source": []
  },
  {
   "cell_type": "code",
   "execution_count": null,
   "metadata": {},
   "outputs": [],
   "source": []
  },
  {
   "cell_type": "code",
   "execution_count": null,
   "metadata": {},
   "outputs": [],
   "source": []
  },
  {
   "cell_type": "code",
   "execution_count": null,
   "metadata": {},
   "outputs": [],
   "source": []
  },
  {
   "cell_type": "code",
   "execution_count": null,
   "metadata": {},
   "outputs": [],
   "source": []
  },
  {
   "cell_type": "code",
   "execution_count": null,
   "metadata": {},
   "outputs": [],
   "source": []
  }
 ],
 "metadata": {
  "kernelspec": {
   "display_name": "Python 3",
   "language": "python",
   "name": "python3"
  },
  "language_info": {
   "codemirror_mode": {
    "name": "ipython",
    "version": 3
   },
   "file_extension": ".py",
   "mimetype": "text/x-python",
   "name": "python",
   "nbconvert_exporter": "python",
   "pygments_lexer": "ipython3",
   "version": "3.7.4"
  }
 },
 "nbformat": 4,
 "nbformat_minor": 2
}
