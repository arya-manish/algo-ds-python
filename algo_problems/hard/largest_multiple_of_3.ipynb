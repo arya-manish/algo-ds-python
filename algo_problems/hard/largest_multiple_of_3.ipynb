{
 "cells": [
  {
   "cell_type": "markdown",
   "metadata": {},
   "source": [
    "### Largest Multiple of Three"
   ]
  },
  {
   "cell_type": "markdown",
   "metadata": {},
   "source": [
    "Given an integer array of digits, return the largest multiple of three that can be formed by concatenating some of the given digits in any order.\n",
    "\n",
    "Since the answer may not fit in an integer data type, return the answer as a string.\n",
    "\n",
    "If there is no answer return an empty string.\n",
    "Example 1:\n",
    "\n",
    "Input: digits = [8,1,9]\n",
    "Output: \"981\"\n",
    "\n",
    "Example 2:\n",
    "Input: digits = [8,6,7,1,0]\n",
    "Output: \"8760\"\n",
    "\n",
    "Example 3:\n",
    "Input: digits = [1]\n",
    "Output: \"\"\n",
    "\n",
    "Example 4:\n",
    "Input: digits = [0,0,0,0,0,0]\n",
    "Output: \"0\"\n",
    " "
   ]
  },
  {
   "cell_type": "code",
   "execution_count": 100,
   "metadata": {},
   "outputs": [],
   "source": [
    "''' \n",
    "# logic: 1. If a number is a multiple of 3, it means sum of its digits is \n",
    "#        divisible by 3.\n",
    "         2. Remainder when sum of digits of a given number is divided by 3 is \n",
    "         equal to remainder when the number is divided by 3. How?\n",
    "            Proof: xyz%3 = (100x + 10y + z)%3 = (1.x)%3 + (1.y)%3 + z%3 = (x + y + z)%3\n",
    "            Also note: xyz%3 = yzx%3 = zxy%3 \n",
    "            This property is used for the algo.\n",
    "         3. Sum the digits of the list.\n",
    "            a. If sum%3 == 0, return the digits in non-ascending order\n",
    "            b. If sum%3 == 1, remove the lowest digit from list of remaindr1.\n",
    "                              If remaindr1 is empty, remove 2 lowest digits from remaindr2.\n",
    "            c. If sum%3 ==2, remove the lowest digit from remaindr2.\n",
    "                              If remaindr2 is empty, remove 2 lowest digits from remaindr1.\n",
    "'''\n",
    "def largestmultiple_of_three(digits):\n",
    "    \n",
    "    digits.sort()\n",
    "    \n",
    "    # remainder can only be 0, 1 or 2 when digit is divided by 3\n",
    "    remaindr0, remaindr1, remaindr2 = [], [], []\n",
    "    \n",
    "    for d in digits:\n",
    "        if d%3 == 0:\n",
    "            remaindr0.append(d)\n",
    "        elif d%3 == 1:\n",
    "            remaindr1.append(d)\n",
    "        else:  # remainder is 2\n",
    "            remaindr2.append(d)\n",
    "            \n",
    "    sums = sum(digits) \n",
    "    \n",
    "    # if all digits are zero\n",
    "    if sums == 0:\n",
    "        return str(sums)\n",
    "    \n",
    "    if sums%3 == 0:\n",
    "        digits.reverse()\n",
    "        return ''.join(map(str, digits))\n",
    "    \n",
    "    elif sums%3 == 1:\n",
    "        if len(remaindr1)!=0:\n",
    "            del remaindr1[0]\n",
    "            rslt = remaindr0 + remaindr1 + remaindr2\n",
    "            rslt.sort()\n",
    "            rslt.reverse()  # rslt is a reverse sorted i.e. largest number of multiple 3.\n",
    "            return ''.join(map(str, rslt)) # convert elements of list rslt into a string\n",
    "        else:\n",
    "            del remaindr2[0:2] # note del remaindr2[0], remaindr2[1] does not work if remaindr2 has \n",
    "                               # two elements\n",
    "            rslt = remaindr0 + remaindr1 + remaindr2\n",
    "            rslt.sort()\n",
    "            rslt.reverse()\n",
    "            return ''.join(map(str, rslt)) \n",
    "            \n",
    "    else:\n",
    "        if len(remaindr2)!=0:\n",
    "            del remaindr2[0]\n",
    "            rslt = remaindr0 + remaindr1 + remaindr2\n",
    "            rslt.sort()\n",
    "            rslt.reverse()  \n",
    "            return ''.join(map(str, rslt))\n",
    "        else:\n",
    "            del remaindr1[0:2]\n",
    "            rslt = remaindr0 + remaindr1 + remaindr2\n",
    "            rslt.sort()\n",
    "            rslt.reverse()\n",
    "            return ''.join(map(str, rslt))\n",
    "            \n",
    "            \n",
    "        \n",
    "        \n",
    "            "
   ]
  },
  {
   "cell_type": "code",
   "execution_count": 102,
   "metadata": {},
   "outputs": [
    {
     "data": {
      "text/plain": [
       "'875532'"
      ]
     },
     "execution_count": 102,
     "metadata": {},
     "output_type": "execute_result"
    }
   ],
   "source": [
    "largestmultiple_of_three([2, 5, 7, 5, 3, 8])"
   ]
  },
  {
   "cell_type": "code",
   "execution_count": null,
   "metadata": {},
   "outputs": [],
   "source": []
  }
 ],
 "metadata": {
  "kernelspec": {
   "display_name": "Python 3",
   "language": "python",
   "name": "python3"
  },
  "language_info": {
   "codemirror_mode": {
    "name": "ipython",
    "version": 3
   },
   "file_extension": ".py",
   "mimetype": "text/x-python",
   "name": "python",
   "nbconvert_exporter": "python",
   "pygments_lexer": "ipython3",
   "version": "3.7.4"
  }
 },
 "nbformat": 4,
 "nbformat_minor": 2
}
