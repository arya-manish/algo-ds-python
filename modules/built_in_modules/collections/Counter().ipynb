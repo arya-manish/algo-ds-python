{
 "cells": [
  {
   "cell_type": "markdown",
   "metadata": {},
   "source": [
    "This module implements specialized container datatypes providing alternatives to Python’s general purpose built-in containers, dict, list, set, and tuple. https://docs.python.org/2/library/collections.html"
   ]
  },
  {
   "cell_type": "code",
   "execution_count": 8,
   "metadata": {},
   "outputs": [],
   "source": [
    "from collections import Counter"
   ]
  },
  {
   "cell_type": "markdown",
   "metadata": {},
   "source": [
    "class collections.Counter([iterable-or-mapping])\n",
    "\n",
    "A Counter is a dict subclass for counting hashable objects. It is an unordered collection where elements are stored as dictionary keys and their counts are stored as dictionary values. Counts are allowed to be any integer value including zero or negative counts. The Counter class is similar to bags or multisets in other languages. "
   ]
  },
  {
   "cell_type": "code",
   "execution_count": 5,
   "metadata": {},
   "outputs": [
    {
     "name": "stdout",
     "output_type": "stream",
     "text": [
      "Counter({'red': 2, 'blue': 2, 'green': 1, 'yellow': 1})\n"
     ]
    }
   ],
   "source": [
    "c = Counter()\n",
    "colors = ['red', 'blue', 'green', 'blue', 'yellow','red']\n",
    "for color in colors:\n",
    "    c[color] +=1\n",
    "print(c)    "
   ]
  },
  {
   "cell_type": "code",
   "execution_count": 7,
   "metadata": {},
   "outputs": [
    {
     "name": "stdout",
     "output_type": "stream",
     "text": [
      "Counter({'red': 2, 'blue': 2, 'green': 1, 'yellow': 1})\n"
     ]
    }
   ],
   "source": [
    "c = Counter(['red', 'blue', 'green', 'blue', 'yellow','red'])\n",
    "print(c)"
   ]
  },
  {
   "cell_type": "code",
   "execution_count": 9,
   "metadata": {},
   "outputs": [],
   "source": [
    "c1 = Counter()                           # a new, empty counter\n",
    "c2 = Counter('gallahad')                 # a new counter from an iterable\n",
    "c3 = Counter({'red': 4, 'blue': 2})      # a new counter from a mapping\n",
    "c4 = Counter(cats=4, dogs=8)             # a new counter from keyword args\n"
   ]
  },
  {
   "cell_type": "code",
   "execution_count": 17,
   "metadata": {},
   "outputs": [
    {
     "name": "stdout",
     "output_type": "stream",
     "text": [
      "\n",
      " Counter() \n",
      " Counter({'a': 3, 'l': 2, 'g': 1, 'h': 1, 'd': 1}) \n",
      " Counter({'red': 4, 'blue': 2}) \n",
      " Counter({'dogs': 8, 'cats': 4})\n"
     ]
    }
   ],
   "source": [
    "print('\\n', c1, '\\n',  c2, '\\n', c3,'\\n', c4)"
   ]
  },
  {
   "cell_type": "code",
   "execution_count": null,
   "metadata": {},
   "outputs": [],
   "source": []
  }
 ],
 "metadata": {
  "kernelspec": {
   "display_name": "Python 3",
   "language": "python",
   "name": "python3"
  },
  "language_info": {
   "codemirror_mode": {
    "name": "ipython",
    "version": 3
   },
   "file_extension": ".py",
   "mimetype": "text/x-python",
   "name": "python",
   "nbconvert_exporter": "python",
   "pygments_lexer": "ipython3",
   "version": "3.7.4"
  }
 },
 "nbformat": 4,
 "nbformat_minor": 2
}
