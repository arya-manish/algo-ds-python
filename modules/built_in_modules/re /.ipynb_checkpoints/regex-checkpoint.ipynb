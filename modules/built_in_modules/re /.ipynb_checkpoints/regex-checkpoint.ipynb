{
 "cells": [
  {
   "cell_type": "code",
   "execution_count": 4,
   "metadata": {},
   "outputs": [],
   "source": [
    "## Regular Expression\n",
    "import re    "
   ]
  },
  {
   "cell_type": "code",
   "execution_count": 5,
   "metadata": {},
   "outputs": [
    {
     "name": "stdout",
     "output_type": "stream",
     "text": [
      "\tPYTHON\n",
      "\n",
      "PYTHON\n",
      "\\tPYTHON\n"
     ]
    }
   ],
   "source": [
    "print('\\tPYTHON')  # \\t for tab\n",
    "print('\\nPYTHON')  # \\n for new line\n",
    "print(r'\\tPYTHON')  # r is for raw string. "
   ]
  },
  {
   "cell_type": "code",
   "execution_count": 7,
   "metadata": {},
   "outputs": [
    {
     "name": "stdout",
     "output_type": "stream",
     "text": [
      "['i', 'love', 'lord', 'ram', 'bhoomi', 'poojan', 'was', 'performed', 'yesterday', 'by', 'honorable', 'prime', 'minister', 'narendra', 'modi']\n"
     ]
    }
   ],
   "source": [
    "tweet = 'I love Lord Ram. Bhoomi poojan was performed yesterday by Honorable Prime Minister Narendra Modi' \n",
    "tweet_lower = tweet.lower()\n",
    "words = re.findall(r'\\w+', tweet_lower)\n",
    "print(words)"
   ]
  },
  {
   "cell_type": "code",
   "execution_count": null,
   "metadata": {},
   "outputs": [],
   "source": []
  },
  {
   "cell_type": "code",
   "execution_count": null,
   "metadata": {},
   "outputs": [],
   "source": []
  }
 ],
 "metadata": {
  "kernelspec": {
   "display_name": "Python 3",
   "language": "python",
   "name": "python3"
  },
  "language_info": {
   "codemirror_mode": {
    "name": "ipython",
    "version": 3
   },
   "file_extension": ".py",
   "mimetype": "text/x-python",
   "name": "python",
   "nbconvert_exporter": "python",
   "pygments_lexer": "ipython3",
   "version": "3.7.4"
  }
 },
 "nbformat": 4,
 "nbformat_minor": 2
}
