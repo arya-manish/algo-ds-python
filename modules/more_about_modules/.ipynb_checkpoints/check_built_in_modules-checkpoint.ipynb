{
 "cells": [
  {
   "cell_type": "markdown",
   "metadata": {},
   "source": [
    "### To check if a given module is of type built-in or not"
   ]
  },
  {
   "cell_type": "code",
   "execution_count": 7,
   "metadata": {},
   "outputs": [
    {
     "data": {
      "text/plain": [
       "('_abc',\n",
       " '_ast',\n",
       " '_codecs',\n",
       " '_collections',\n",
       " '_functools',\n",
       " '_imp',\n",
       " '_io',\n",
       " '_locale',\n",
       " '_operator',\n",
       " '_signal',\n",
       " '_sre',\n",
       " '_stat',\n",
       " '_string',\n",
       " '_symtable',\n",
       " '_thread',\n",
       " '_tracemalloc',\n",
       " '_warnings',\n",
       " '_weakref',\n",
       " 'atexit',\n",
       " 'builtins',\n",
       " 'errno',\n",
       " 'faulthandler',\n",
       " 'gc',\n",
       " 'itertools',\n",
       " 'marshal',\n",
       " 'posix',\n",
       " 'pwd',\n",
       " 'sys',\n",
       " 'time',\n",
       " 'xxsubtype',\n",
       " 'zipimport')"
      ]
     },
     "execution_count": 7,
     "metadata": {},
     "output_type": "execute_result"
    }
   ],
   "source": [
    "import sys\n",
    "sys.builtin_module_names"
   ]
  },
  {
   "cell_type": "markdown",
   "metadata": {},
   "source": [
    "##### imp module — Access the import internals¶\n",
    "https://docs.python.org/2/library/imp.html"
   ]
  },
  {
   "cell_type": "code",
   "execution_count": 34,
   "metadata": {},
   "outputs": [
    {
     "name": "stdout",
     "output_type": "stream",
     "text": [
      "('', '', 6)\n",
      "6\n"
     ]
    },
    {
     "data": {
      "text/plain": [
       "True"
      ]
     },
     "execution_count": 34,
     "metadata": {},
     "output_type": "execute_result"
    }
   ],
   "source": [
    "import imp  \n",
    "f, path, desc = imp.find_module('_string')\n",
    "print(desc)\n",
    "print(desc[2])\n",
    "desc[2] == imp.C_BUILTIN # True if built-in exists"
   ]
  },
  {
   "cell_type": "code",
   "execution_count": 16,
   "metadata": {},
   "outputs": [
    {
     "name": "stdout",
     "output_type": "stream",
     "text": [
      "('', '', 5)\n"
     ]
    },
    {
     "data": {
      "text/plain": [
       "False"
      ]
     },
     "execution_count": 16,
     "metadata": {},
     "output_type": "execute_result"
    }
   ],
   "source": [
    "f, path, desc = imp.find_module('matplotlib')\n",
    "print(desc)\n",
    "desc[2] == imp.C_BUILTIN # True if built-in exists\n"
   ]
  },
  {
   "cell_type": "code",
   "execution_count": null,
   "metadata": {},
   "outputs": [],
   "source": []
  }
 ],
 "metadata": {
  "kernelspec": {
   "display_name": "Python 3",
   "language": "python",
   "name": "python3"
  },
  "language_info": {
   "codemirror_mode": {
    "name": "ipython",
    "version": 3
   },
   "file_extension": ".py",
   "mimetype": "text/x-python",
   "name": "python",
   "nbconvert_exporter": "python",
   "pygments_lexer": "ipython3",
   "version": "3.7.4"
  }
 },
 "nbformat": 4,
 "nbformat_minor": 2
}
