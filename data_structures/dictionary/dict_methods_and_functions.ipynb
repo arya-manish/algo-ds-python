{
 "cells": [
  {
   "cell_type": "code",
   "execution_count": 3,
   "metadata": {},
   "outputs": [
    {
     "name": "stdout",
     "output_type": "stream",
     "text": [
      "['i', 'love', 'lord', 'ram', 'bhoomi', 'poojan', 'was', 'performed', 'yesterday', 'by', 'honorable', 'prime', 'minister', 'narendra', 'modi']\n"
     ]
    }
   ],
   "source": [
    "tweet = 'I love Lord Ram. Bhoomi poojan was performed yesterday by Honorable Prime Minister Narendra Modi' \n",
    "tweet_lower = tweet.lower()\n",
    "words = re.findall(r'\\w+', tweet_lower)\n",
    "print(words)"
   ]
  },
  {
   "cell_type": "code",
   "execution_count": 9,
   "metadata": {},
   "outputs": [
    {
     "name": "stdout",
     "output_type": "stream",
     "text": [
      "{'i': 1, 'love': 1, 'lord': 1, 'ram': 1, 'bhoomi': 1, 'poojan': 1, 'was': 1, 'performed': 1, 'yesterday': 1, 'by': 1, 'honorable': 1, 'prime': 1, 'minister': 1, 'narendra': 1, 'modi': 1}\n"
     ]
    }
   ],
   "source": [
    "# word count using dict : option 1\n",
    "counts = dict()\n",
    "for w in words:\n",
    "    counts[w] = counts.get(w, 0) + 1\n",
    "print(counts)    "
   ]
  },
  {
   "cell_type": "code",
   "execution_count": 14,
   "metadata": {},
   "outputs": [
    {
     "name": "stdout",
     "output_type": "stream",
     "text": [
      "Counter({'i': 1, 'love': 1, 'lord': 1, 'ram': 1, 'bhoomi': 1, 'poojan': 1, 'was': 1, 'performed': 1, 'yesterday': 1, 'by': 1, 'honorable': 1, 'prime': 1, 'minister': 1, 'narendra': 1, 'modi': 1})\n"
     ]
    }
   ],
   "source": [
    "# word count using dict : option 2\n",
    "from collections import Counter\n",
    "c = Counter(words)\n",
    "print(c)"
   ]
  },
  {
   "cell_type": "code",
   "execution_count": null,
   "metadata": {},
   "outputs": [],
   "source": []
  }
 ],
 "metadata": {
  "kernelspec": {
   "display_name": "Python 3",
   "language": "python",
   "name": "python3"
  },
  "language_info": {
   "codemirror_mode": {
    "name": "ipython",
    "version": 3
   },
   "file_extension": ".py",
   "mimetype": "text/x-python",
   "name": "python",
   "nbconvert_exporter": "python",
   "pygments_lexer": "ipython3",
   "version": "3.7.4"
  }
 },
 "nbformat": 4,
 "nbformat_minor": 2
}
